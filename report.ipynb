{
 "cells": [
  {
   "cell_type": "markdown",
   "metadata": {},
   "source": [
    "Topic:  IMDB Film Yorumlarının Duygu Analizi için Farklı Sinir                       Ağlarının Performans Analizi"
   ]
  },
  {
   "cell_type": "code",
   "execution_count": 2,
   "metadata": {},
   "outputs": [],
   "source": [
    "\n",
    "from numpy import array\n",
    "from keras.preprocessing.text import one_hot\n",
    "from keras.preprocessing.sequence import pad_sequences\n",
    "from keras.models import Sequential\n",
    "from keras.layers.core import Activation, Dropout, Dense\n",
    "from keras.layers import Flatten\n",
    "from keras.layers import GlobalMaxPooling1D\n",
    "from keras.layers.embeddings import Embedding\n",
    "from sklearn.model_selection import train_test_split\n",
    "from keras.preprocessing.text import Tokenizer\n",
    "from keras.layers import GlobalMaxPooling1D\n",
    "from keras.layers import LSTM\n",
    "from keras.layers.embeddings import Embedding\n",
    "from sklearn.model_selection import train_test_split\n",
    "from keras.preprocessing.text import Tokenizer\n",
    "from keras.layers import Conv1D"
   ]
  },
  {
   "cell_type": "code",
   "execution_count": 3,
   "metadata": {},
   "outputs": [],
   "source": [
    "import tensorflow as tf\n",
    "import matplotlib.pyplot as plt\n",
    "import seaborn as sns\n",
    "from scipy import stats\n",
    "import pandas as pd\n",
    "import numpy as np\n",
    "import re\n",
    "import nltk\n",
    "from nltk.corpus import stopwords\n"
   ]
  },
  {
   "cell_type": "markdown",
   "metadata": {},
   "source": [
    "# Exploratory Data Analysis (EDA)"
   ]
  },
  {
   "cell_type": "markdown",
   "metadata": {},
   "source": [
    "### Veri Setinden Okuma"
   ]
  },
  {
   "cell_type": "code",
   "execution_count": 4,
   "metadata": {},
   "outputs": [],
   "source": [
    "movie_reviews = pd.read_csv(\"IMDB Dataset.csv\")"
   ]
  },
  {
   "cell_type": "markdown",
   "metadata": {},
   "source": [
    "Veri setinde herhangi bir null değer var mı kontrol edildi.\n",
    "Veri setindeki satır ve sütun sayıları yansıtıldı\n"
   ]
  },
  {
   "cell_type": "code",
   "execution_count": 5,
   "metadata": {},
   "outputs": [
    {
     "data": {
      "text/plain": [
       "False"
      ]
     },
     "metadata": {},
     "output_type": "display_data"
    },
    {
     "data": {
      "text/plain": [
       "(50000, 2)"
      ]
     },
     "metadata": {},
     "output_type": "display_data"
    }
   ],
   "source": [
    "display(movie_reviews.isnull().values.any())\n",
    "\n",
    "display(movie_reviews.shape)\n"
   ]
  },
  {
   "cell_type": "markdown",
   "metadata": {},
   "source": [
    "### Veri Seti Özeti"
   ]
  },
  {
   "cell_type": "markdown",
   "metadata": {},
   "source": [
    "Dataset genel görüntüsü"
   ]
  },
  {
   "cell_type": "code",
   "execution_count": 6,
   "metadata": {},
   "outputs": [
    {
     "data": {
      "text/html": [
       "<div>\n",
       "<style scoped>\n",
       "    .dataframe tbody tr th:only-of-type {\n",
       "        vertical-align: middle;\n",
       "    }\n",
       "\n",
       "    .dataframe tbody tr th {\n",
       "        vertical-align: top;\n",
       "    }\n",
       "\n",
       "    .dataframe thead th {\n",
       "        text-align: right;\n",
       "    }\n",
       "</style>\n",
       "<table border=\"1\" class=\"dataframe\">\n",
       "  <thead>\n",
       "    <tr style=\"text-align: right;\">\n",
       "      <th></th>\n",
       "      <th>review</th>\n",
       "      <th>sentiment</th>\n",
       "    </tr>\n",
       "  </thead>\n",
       "  <tbody>\n",
       "    <tr>\n",
       "      <th>0</th>\n",
       "      <td>One of the other reviewers has mentioned that ...</td>\n",
       "      <td>positive</td>\n",
       "    </tr>\n",
       "    <tr>\n",
       "      <th>1</th>\n",
       "      <td>A wonderful little production. &lt;br /&gt;&lt;br /&gt;The...</td>\n",
       "      <td>positive</td>\n",
       "    </tr>\n",
       "    <tr>\n",
       "      <th>2</th>\n",
       "      <td>I thought this was a wonderful way to spend ti...</td>\n",
       "      <td>positive</td>\n",
       "    </tr>\n",
       "    <tr>\n",
       "      <th>3</th>\n",
       "      <td>Basically there's a family where a little boy ...</td>\n",
       "      <td>negative</td>\n",
       "    </tr>\n",
       "    <tr>\n",
       "      <th>4</th>\n",
       "      <td>Petter Mattei's \"Love in the Time of Money\" is...</td>\n",
       "      <td>positive</td>\n",
       "    </tr>\n",
       "  </tbody>\n",
       "</table>\n",
       "</div>"
      ],
      "text/plain": [
       "                                              review sentiment\n",
       "0  One of the other reviewers has mentioned that ...  positive\n",
       "1  A wonderful little production. <br /><br />The...  positive\n",
       "2  I thought this was a wonderful way to spend ti...  positive\n",
       "3  Basically there's a family where a little boy ...  negative\n",
       "4  Petter Mattei's \"Love in the Time of Money\" is...  positive"
      ]
     },
     "metadata": {},
     "output_type": "display_data"
    }
   ],
   "source": [
    "display(movie_reviews.head());"
   ]
  },
  {
   "cell_type": "markdown",
   "metadata": {},
   "source": [
    "Veri setindeki olumlu ve olumsuz film yorumlarının dağılımı"
   ]
  },
  {
   "cell_type": "code",
   "execution_count": 7,
   "metadata": {},
   "outputs": [
    {
     "data": {
      "text/plain": [
       "<AxesSubplot:xlabel='sentiment', ylabel='count'>"
      ]
     },
     "execution_count": 7,
     "metadata": {},
     "output_type": "execute_result"
    },
    {
     "data": {
      "image/png": "[encoded data removed]",
      "text/plain": [
       "<Figure size 432x288 with 1 Axes>"
      ]
     },
     "metadata": {
      "needs_background": "light"
     },
     "output_type": "display_data"
    }
   ],
   "source": [
    "sns.countplot(x='sentiment', data=movie_reviews)"
   ]
  },
  {
   "cell_type": "markdown",
   "metadata": {},
   "source": [
    "# Veri Ön İşleme¶"
   ]
  },
  {
   "cell_type": "markdown",
   "metadata": {},
   "source": [
    "Text verisindeki;\n",
    "HTML etiketleri,\n",
    "Noktalama ve rakamlar,\n",
    "Tekli karakterler silindi.\n",
    "\n",
    "Oluşan çift boşluklar tek boşluklarla değiştirildi"
   ]
  },
  {
   "cell_type": "markdown",
   "metadata": {},
   "source": [
    "Veri stinde bulunan örnek text aşağıda verilmiştir."
   ]
  },
  {
   "cell_type": "code",
   "execution_count": 8,
   "metadata": {},
   "outputs": [
    {
     "data": {
      "text/plain": [
       "\"Basically there's a family where a little boy (Jake) thinks there's a zombie in his closet & his parents are fighting all the time.<br /><br />This movie is slower than a soap opera... and suddenly, Jake decides to become Rambo and kill the zombie.<br /><br />OK, first of all when you're going to make a film you must Decide if its a thriller or a drama! As a drama the movie is watchable. Parents are divorcing & arguing like in real life. And then we have Jake with his closet which totally ruins all the film! I expected to see a BOOGEYMAN similar movie, and instead i watched a drama with some meaningless thriller spots.<br /><br />3 out of 10 just for the well playing parents & descent dialogs. As for the shots with Jake: just ignore them.\""
      ]
     },
     "metadata": {},
     "output_type": "display_data"
    }
   ],
   "source": [
    "display(movie_reviews[\"review\"][3])   "
   ]
  },
  {
   "cell_type": "markdown",
   "metadata": {},
   "source": [
    "Veri temizleme ve ham veri oluşturma işlemi sonucunda örnek textin \n",
    "yeni görüntüsü aşağıda verilmiştir."
   ]
  },
  {
   "cell_type": "code",
   "execution_count": 9,
   "metadata": {},
   "outputs": [
    {
     "data": {
      "text/plain": [
       "'Basically there a family where little boy Jake thinks there a zombie in his closet his parents are fighting all the time This movie is slower than soap opera and suddenly Jake decides to become Rambo and kill the zombie OK first of all when you re going to make film you must Decide if its thriller or drama As drama the movie is watchable Parents are divorcing arguing like in real life And then we have Jake with his closet which totally ruins all the film expected to see BOOGEYMAN similar movie and instead watched drama with some meaningless thriller spots out of just for the well playing parents descent dialogs As for the shots with Jake just ignore them '"
      ]
     },
     "metadata": {},
     "output_type": "display_data"
    }
   ],
   "source": [
    "TAG_RE = re.compile(r'<[^>]+>')\n",
    "\n",
    "def preprocess_text(sen):\n",
    "    sentence = TAG_RE.sub('', sen)\n",
    "    sentence = re.sub('[^a-zA-Z]', ' ', sentence)\n",
    "    sentence = re.sub(r\"\\s+[a-zA-Z]\\s+\", ' ', sentence)\n",
    "    sentence = re.sub(r'\\s+', ' ', sentence)\n",
    "\n",
    "    return sentence\n",
    "X = []\n",
    "sentences = list(movie_reviews['review'])\n",
    "for sen in sentences:\n",
    "    X.append(preprocess_text(sen)) \n",
    "display(X[3])    "
   ]
  },
  {
   "cell_type": "markdown",
   "metadata": {},
   "source": [
    "Hedef sütunundaki metinsel sınıflandırma sayısallaştırıldı\n",
    "(positive -> 1,\n",
    "negative -> 0)"
   ]
  },
  {
   "cell_type": "code",
   "execution_count": 10,
   "metadata": {},
   "outputs": [
    {
     "data": {
      "text/plain": [
       "array([1, 1, 1, ..., 0, 0, 0])"
      ]
     },
     "metadata": {},
     "output_type": "display_data"
    }
   ],
   "source": [
    "y = movie_reviews['sentiment']\n",
    "\n",
    "y = np.array(list(map(lambda x: 1 if x==\"positive\" else 0, y)))\n",
    "\n",
    "display(y)\n"
   ]
  },
  {
   "cell_type": "markdown",
   "metadata": {},
   "source": [
    "Veriler eğitim seti için %80 ve test seti için %20 olarak ayrıldı."
   ]
  },
  {
   "cell_type": "code",
   "execution_count": 11,
   "metadata": {},
   "outputs": [],
   "source": [
    "X_train, X_test, y_train, y_test = train_test_split(X, y, test_size=0.20, random_state=42)"
   ]
  },
  {
   "cell_type": "markdown",
   "metadata": {},
   "source": [
    "# Gömme Katmanını Hazırlama"
   ]
  },
  {
   "cell_type": "markdown",
   "metadata": {},
   "source": [
    "Metinsel veriler, her bir kelimenin \"one hot vektöre\" dönüştürülmesi ve  anlamına göre vektör uzayında konumlandırılmasıyla sayısallaştırılmış oldu.\n",
    "Sinir ağ yapılarına girdi olarak cümleleri temsil eden vektör listelerinden GloVe modeli ile oluşturulmuş öznitelik matriksi verildi."
   ]
  },
  {
   "cell_type": "markdown",
   "metadata": {},
   "source": [
    "Tokenizer sınıfı ile \"word-to-index \" sözlüğü oluşturuldu. Yapıdaki her bir kelime bir anahtar olarak kabul edildi ve \n",
    "her anahtara eşsiz bir index atandı."
   ]
  },
  {
   "cell_type": "code",
   "execution_count": 12,
   "metadata": {
    "scrolled": true
   },
   "outputs": [
    {
     "data": {
      "text/plain": [
       "'X_train: '"
      ]
     },
     "metadata": {},
     "output_type": "display_data"
    },
    {
     "name": "stdout",
     "output_type": "stream",
     "text": [
      "[9, 43, 786, 2121, 524, 299, 1, 104, 1860, 1989, 4281, 2, 782, 4786, 9, 1, 224, 1, 77, 763, 51, 49, 17, 97, 3, 1, 24, 1968, 98, 31, 23, 32, 116, 1101, 9, 6, 5, 2323, 1163, 4, 449, 43, 540, 4, 88, 28, 20, 37, 892, 397, 13, 1, 154, 4, 2935, 22, 4318, 18, 2897, 9, 42, 71, 218, 69, 123, 7, 76, 3100, 193, 18, 232, 2, 1, 427, 198, 4888, 147, 19, 60, 24, 13, 70, 358, 299, 16, 15, 6, 198, 25, 302, 9, 11, 1, 1820, 112, 413, 2, 11, 1, 1651, 562, 67, 419, 373, 82, 114, 43, 110, 361, 28, 33, 15, 41, 10, 88, 441, 13, 357, 1145, 59, 7, 1, 460, 214, 992, 4, 4124, 7, 174, 3, 32, 433, 680, 607, 9, 66, 227, 233, 107, 830, 33, 169, 27, 217, 9, 1, 423, 360, 53, 3696, 273, 157, 1672, 187, 5, 1, 711, 1904, 1, 1177, 3, 2838, 3672, 1652, 2, 144, 147, 225, 3, 203, 320, 2, 147, 1052, 14, 85, 3, 131, 2790, 15, 152, 95, 3, 1, 3974, 299, 8, 12, 975, 33, 1, 485, 2567, 242, 66, 72, 104, 104, 678, 57, 80, 66, 148, 1331, 4, 223, 131, 20, 4319, 29, 137, 205, 1123, 11, 4341, 29, 2276, 2, 7, 8, 5, 438, 11, 610, 3, 1, 703, 2915, 1, 1248, 2, 66, 3571, 1, 154, 1477, 1, 1217, 4, 1584, 1, 862, 1225, 4, 1, 296, 140, 2854, 2, 405, 614, 1, 263, 5, 3514, 977, 4, 25, 37, 11, 1237, 215, 62, 2, 35, 5, 27, 217, 24, 189, 1430, 7, 1068, 15, 4868, 81, 1, 221, 63, 351, 64, 52, 24, 4, 3547, 13, 6, 19, 192, 4, 859, 3430, 1720, 17, 23, 4, 158, 194, 175, 106, 9, 1604, 461, 71, 218, 4, 321, 2, 3431, 31, 20, 47, 68, 1844, 4668, 11, 6, 1365, 8, 16, 5, 3475, 1990, 14, 59, 1, 2380, 460, 518, 2, 170, 2524, 2698, 1745, 4, 573, 6, 33, 1, 3750, 198, 345, 3812]\n",
      "[124, 113, 19, 99, 1, 435, 12, 91, 19, 99, 1, 435, 12, 2254, 1, 257, 96, 145, 13, 300, 30, 517, 2, 1427, 242, 527, 3, 145, 511, 6, 529, 511, 159, 631, 1, 3594, 39, 3, 1, 407, 34, 3889, 93, 193, 1616, 2, 739, 15, 46, 59, 25, 2081, 11, 1616, 585, 27, 3889, 204, 1, 438, 5, 330, 498, 94, 243, 4, 72, 1, 296, 4, 417, 1, 106, 183, 4, 25, 30, 1350, 13, 695, 1264, 33, 24, 126, 4, 157, 306, 5, 332, 2, 1477, 4085, 36, 26, 22, 658, 210, 608, 11, 2057, 1264, 5, 687, 110, 246, 68, 631, 214, 6, 17, 200, 39, 3, 1, 58, 249, 126, 5, 1280, 700, 1, 1663, 1560, 9, 78, 3712, 18, 1, 262, 5, 570, 11, 521, 11, 249, 126, 5, 1683, 7, 1334, 137, 11, 436, 4613, 1, 2084, 29, 1, 412, 100, 20, 155, 81, 17, 46, 14, 1, 98, 4696, 2, 2508, 1560, 2, 1, 864, 1, 100, 639, 51, 7, 5, 19, 188, 403, 1, 546, 9, 21, 5, 4342, 51, 7, 1810, 585, 4, 2408, 417, 33, 1, 296, 41, 1264, 63, 19, 250, 137, 30, 1069, 100, 31, 107, 60, 14, 1, 76, 98, 7, 1, 12, 2, 628, 4808, 5, 1082, 541, 13, 259, 4, 2408, 897, 2, 1, 204, 132, 1181, 32, 700, 2, 26, 1, 603, 455, 220, 94, 1052, 8, 12, 91, 23, 71, 1681, 15, 6, 211, 82, 99, 6]\n",
      "[128, 1307, 108, 58, 2791, 3, 7, 1, 1248, 13, 108, 4512, 2550, 18, 1668, 3890, 2, 80, 8, 5, 327, 29, 4164, 74, 4, 1319, 4, 249, 76, 1, 58, 2711, 18, 31, 481, 32, 69, 4, 25, 2176, 1590, 11, 65, 11, 45, 593, 2, 323, 1320, 5, 48, 3486, 4, 84, 11, 1, 58, 4165, 66, 61, 1, 1308, 1741, 1, 2263, 7, 22, 286, 1483, 2, 80, 21, 14, 1, 1487, 9, 389, 84, 310, 2, 695, 58]\n",
      "X_train contains 40000 list\n"
     ]
    }
   ],
   "source": [
    "tokenizer = Tokenizer(num_words=5000)\n",
    "tokenizer.fit_on_texts(X_train)\n",
    "\n",
    "X_train = tokenizer.texts_to_sequences(X_train)\n",
    "X_test = tokenizer.texts_to_sequences(X_test)\n",
    "display(\"X_train: \")\n",
    "print(X_train[0])\n",
    "print(X_train[1])\n",
    "print(X_train[2])\n",
    "print(\"X_train contains \"+str(len(X_train))+ \" list\");"
   ]
  },
  {
   "cell_type": "markdown",
   "metadata": {},
   "source": [
    "Yukarıda görüldüğü gibi Eğitim seti 40000 liste içeriyor yani 40000 cümle içermektedir. \n",
    "Ancak her bir listenin uzunluğu farklıdır çünkü her bir cümlenin uzunluğu farklılıdır. Bu durmda cümle uzunluklarını sabitlemek gerekmektedir.\n",
    "X_test ve X_train'deki cümle uzunluklarının dağılımı gözlemlendi ve bu dağılıma göre cümle uzunluğunun sabitleneceği değer belirlendi."
   ]
  },
  {
   "cell_type": "code",
   "execution_count": 13,
   "metadata": {},
   "outputs": [
    {
     "name": "stderr",
     "output_type": "stream",
     "text": [
      "C:\\Users\\begon\\anaconda3\\lib\\site-packages\\seaborn\\distributions.py:2557: FutureWarning: `distplot` is a deprecated function and will be removed in a future version. Please adapt your code to use either `displot` (a figure-level function with similar flexibility) or `histplot` (an axes-level function for histograms).\n",
      "  warnings.warn(msg, FutureWarning)\n",
      "C:\\Users\\begon\\anaconda3\\lib\\site-packages\\seaborn\\distributions.py:2557: FutureWarning: `distplot` is a deprecated function and will be removed in a future version. Please adapt your code to use either `displot` (a figure-level function with similar flexibility) or `histplot` (an axes-level function for histograms).\n",
      "  warnings.warn(msg, FutureWarning)\n"
     ]
    },
    {
     "name": "stdout",
     "output_type": "stream",
     "text": [
      "Train mean:  198.422675\n",
      "Train median:  150.0\n",
      "Train mode:  ModeResult(mode=array([117]), count=array([333]))\n"
     ]
    },
    {
     "data": {
      "image/png": "[encoded data removed]",
      "text/plain": [
       "<Figure size 432x288 with 1 Axes>"
      ]
     },
     "metadata": {
      "needs_background": "light"
     },
     "output_type": "display_data"
    }
   ],
   "source": [
    "lng_train=[]\n",
    "lng_test=[]\n",
    "for i in X_train:\n",
    "    lng_train.append(len(i))\n",
    "for ii in X_test:\n",
    "        lng_test.append(len(ii))\n",
    "sns.distplot(lng_train, hist_kws={\"alpha\":0.3})\n",
    "sns.distplot(lng_test, hist_kws={\"alpha\":0.3})\n",
    "print(\"Train mean: \", np.mean(lng_train))\n",
    "print(\"Train median: \", np.median(lng_train))\n",
    "print(\"Train mode: \", stats.mode(lng_train))"
   ]
  },
  {
   "cell_type": "markdown",
   "metadata": {},
   "source": [
    "Yukarıdaki dağılıma göre çoğu yorumun 117 kelimeden oluştuğu gözlemlenmiştir.\n",
    "Bu durumda sabitlecek cümle uzunluğu en yakın 120 seçilmesi planlanmıştır. Ancak kullanılması planlanan GloVe modeli 100 boyutlu bir vektör modeli olduğu için  ve dağılım sonucunun (117) 100'e yakın bir değer olduğundan oluşabilecek sapmanın göz ardı edilebilecek düzeyde olduğu kararlaştırıldı ve sabitlenecek değer 100 seçildi. \n",
    "100den az olan vektörleri 100 olacak şekilde 0'la dolduruldu(\"PADDING\"); \n",
    "100den çok olan vektörleri ise küçültüldü. (\"TRUNCATION\")\n"
   ]
  },
  {
   "cell_type": "code",
   "execution_count": 14,
   "metadata": {},
   "outputs": [
    {
     "name": "stdout",
     "output_type": "stream",
     "text": [
      "Birbirinden farklı 92547 kelime vardır\n"
     ]
    }
   ],
   "source": [
    "vocab_size = len(tokenizer.word_index) + 1\n",
    "\n",
    "maxlen = 100\n",
    "\n",
    "X_train = pad_sequences(X_train, padding='post', maxlen=maxlen)\n",
    "X_test = pad_sequences(X_test, padding='post', maxlen=maxlen)\n",
    "print(\"Birbirinden farklı \"+ str(vocab_size)+\" kelime vardır\")"
   ]
  },
  {
   "cell_type": "markdown",
   "metadata": {},
   "source": [
    "Öznitelik matriksini oluşturmak için GloVe Modeli kullanıldı. \n",
    "Sonrasınnda keylerden ve her bir keyin karşılık geldiği gömülü listeden oluşan \n",
    "bir sözlük yaratıldı."
   ]
  },
  {
   "cell_type": "code",
   "execution_count": 55,
   "metadata": {},
   "outputs": [
    {
     "data": {
      "text/plain": [
       "array([[ 0.        ,  0.        ,  0.        , ...,  0.        ,\n",
       "         0.        ,  0.        ],\n",
       "       [-0.038194  , -0.24487001,  0.72812003, ..., -0.1459    ,\n",
       "         0.82779998,  0.27061999],\n",
       "       [-0.071953  ,  0.23127   ,  0.023731  , ..., -0.71894997,\n",
       "         0.86894   ,  0.19539   ],\n",
       "       ...,\n",
       "       [ 0.        ,  0.        ,  0.        , ...,  0.        ,\n",
       "         0.        ,  0.        ],\n",
       "       [ 0.37771001,  0.22946   , -0.30311   , ..., -0.33610001,\n",
       "         0.02637   , -0.72302002],\n",
       "       [ 0.99882001,  0.044     ,  0.58508003, ..., -0.54869002,\n",
       "         0.15141   ,  1.36880004]])"
      ]
     },
     "metadata": {},
     "output_type": "display_data"
    }
   ],
   "source": [
    "from numpy import array\n",
    "from numpy import asarray\n",
    "from numpy import zeros\n",
    "\n",
    "embeddings_dictionary = dict()\n",
    "glove_file = open('glove.6B.100d.txt', encoding=\"utf8\")\n",
    "\n",
    "for line in glove_file:\n",
    "    records = line.split()\n",
    "    word = records[0]\n",
    "    vector_dimensions = asarray(records[1:], dtype='float32')\n",
    "    embeddings_dictionary [word] = vector_dimensions\n",
    "glove_file.close()\n",
    "\n",
    "embedding_matrix = zeros((vocab_size, 100))\n",
    "for word, index in tokenizer.word_index.items():\n",
    "    embedding_vector = embeddings_dictionary.get(word)\n",
    "    if embedding_vector is not None:\n",
    "        embedding_matrix[index] = embedding_vector\n",
    "display(embedding_matrix)"
   ]
  },
  {
   "cell_type": "markdown",
   "metadata": {},
   "source": [
    "Son olarak, her satır numarasının cümlelerdeki kelimelerin indexine karşılık geldiği bir gömme matrisi oluşturulmuştur. Matrisin 100 sütunu vardır ve her sütunda o indexe sahip kelimenin 100 boyutlu GloVe kelime gömme değeri vardır."
   ]
  },
  {
   "cell_type": "markdown",
   "metadata": {},
   "source": [
    "# MLP ile Sınıflandırma"
   ]
  },
  {
   "cell_type": "code",
   "execution_count": 65,
   "metadata": {},
   "outputs": [
    {
     "name": "stdout",
     "output_type": "stream",
     "text": [
      "Model: \"sequential_12\"\n",
      "_________________________________________________________________\n",
      "Layer (type)                 Output Shape              Param #   \n",
      "=================================================================\n",
      "embedding_12 (Embedding)     (None, 100, 100)          9254700   \n",
      "_________________________________________________________________\n",
      "flatten_3 (Flatten)          (None, 10000)             0         \n",
      "_________________________________________________________________\n",
      "dense_10 (Dense)             (None, 1)                 10001     \n",
      "=================================================================\n",
      "Total params: 9,264,701\n",
      "Trainable params: 10,001\n",
      "Non-trainable params: 9,254,700\n",
      "_________________________________________________________________\n",
      "None\n"
     ]
    }
   ],
   "source": [
    "model_mlp = Sequential()\n",
    "embedding_layer = Embedding(vocab_size, 100, weights=[embedding_matrix], input_length=maxlen , trainable=False)\n",
    "model_mlp.add(embedding_layer)\n",
    "\n",
    "model_mlp.add(Flatten())\n",
    "model_mlp.add(Dense(1, activation='sigmoid'))\n",
    "\n",
    "model_mlp.compile(optimizer='adam', loss='binary_crossentropy', metrics=['acc'])\n",
    "print(model_mlp.summary())"
   ]
  },
  {
   "cell_type": "markdown",
   "metadata": {},
   "source": [
    "MLP mimarisinin eğitimi ve alınan skor aşağıda verilmiştir."
   ]
  },
  {
   "cell_type": "code",
   "execution_count": 66,
   "metadata": {},
   "outputs": [
    {
     "name": "stdout",
     "output_type": "stream",
     "text": [
      "Epoch 1/6\n",
      "250/250 [==============================] - 1s 5ms/step - loss: 0.6024 - acc: 0.6730 - val_loss: 0.5454 - val_acc: 0.7232\n",
      "Epoch 2/6\n",
      "250/250 [==============================] - 1s 4ms/step - loss: 0.4958 - acc: 0.7607 - val_loss: 0.5178 - val_acc: 0.7435\n",
      "Epoch 3/6\n",
      "250/250 [==============================] - 1s 4ms/step - loss: 0.4564 - acc: 0.7865 - val_loss: 0.5333 - val_acc: 0.7366\n",
      "Epoch 4/6\n",
      "250/250 [==============================] - 1s 4ms/step - loss: 0.4394 - acc: 0.7986 - val_loss: 0.5491 - val_acc: 0.7255\n",
      "Epoch 5/6\n",
      "250/250 [==============================] - 1s 4ms/step - loss: 0.4240 - acc: 0.8065 - val_loss: 0.5295 - val_acc: 0.7454\n",
      "Epoch 6/6\n",
      "250/250 [==============================] - 1s 4ms/step - loss: 0.4087 - acc: 0.8134 - val_loss: 0.5391 - val_acc: 0.7383\n",
      "313/313 [==============================] - 0s 1ms/step - loss: 0.5416 - acc: 0.7435\n",
      "1250/1250 [==============================] - 2s 2ms/step - loss: 0.4064 - acc: 0.8192\n",
      "Test Score: 0.5415753126144409\n",
      "Test Accuracy: 0.7434999942779541\n",
      "Train Score: 0.406355082988739\n",
      "Train Accuracy: 0.8192499876022339\n"
     ]
    }
   ],
   "source": [
    "history_mlp = model_mlp.fit(X_train, y_train, batch_size=128, epochs=6, verbose=1, validation_split=0.2)\n",
    "\n",
    "score_test = model_mlp.evaluate(X_test, y_test, verbose=1)\n",
    "score_train = model_mlp.evaluate(X_train, y_train, verbose=1)\n",
    "print(\"Test Score:\", score_test[0])\n",
    "print(\"Test Accuracy:\", score_test[1])\n",
    "print(\"Train Score:\", score_train[0])\n",
    "print(\"Train Accuracy:\", score_train[1])"
   ]
  },
  {
   "cell_type": "markdown",
   "metadata": {},
   "source": [
    "Test Accuracy yaklaşık %74 çıkarken Train Accuracy yaklaşıl %82 çıkmıştır. \n",
    "Bu durum modelin overfit olduğunu,veriyi ezberlediğini, göstermektedir.\n",
    "İdealde train ve test setindeki accuracy farkının minimum olması beklenmektedir."
   ]
  },
  {
   "cell_type": "code",
   "execution_count": 67,
   "metadata": {},
   "outputs": [
    {
     "data": {
      "image/png": "[encoded data removed]",
      "text/plain": [
       "<Figure size 432x288 with 1 Axes>"
      ]
     },
     "metadata": {
      "needs_background": "light"
     },
     "output_type": "display_data"
    }
   ],
   "source": [
    "plt.plot(history_mlp.history['acc'])\n",
    "plt.plot(history_mlp.history['val_acc'])\n",
    "plt.title('model accuracy')\n",
    "plt.ylabel('accuracy')\n",
    "plt.xlabel('epoch')\n",
    "plt.legend(['train','test'], loc='upper left')\n",
    "plt.show()"
   ]
  },
  {
   "cell_type": "code",
   "execution_count": 68,
   "metadata": {},
   "outputs": [
    {
     "data": {
      "image/png": "[encoded data removed]",
      "text/plain": [
       "<Figure size 432x288 with 1 Axes>"
      ]
     },
     "metadata": {
      "needs_background": "light"
     },
     "output_type": "display_data"
    }
   ],
   "source": [
    "plt.plot(history_mlp.history['loss'])\n",
    "plt.plot(history_mlp.history['val_loss'])\n",
    "\n",
    "plt.title('model loss')\n",
    "plt.ylabel('loss')\n",
    "plt.xlabel('epoch')\n",
    "plt.legend(['train','test'], loc='upper left')\n",
    "plt.show()"
   ]
  },
  {
   "cell_type": "code",
   "execution_count": 94,
   "metadata": {},
   "outputs": [
    {
     "data": {
      "image/png": "[encoded data removed]",
      "text/plain": [
       "<Figure size 432x288 with 2 Axes>"
      ]
     },
     "metadata": {},
     "output_type": "display_data"
    }
   ],
   "source": [
    "\n",
    "y_pred=model_mlp.predict_classes(X_test)\n",
    "con_mat = tf.math.confusion_matrix(labels=y_test, predictions=y_pred).numpy()\n",
    "classes=[0,1]\n",
    "con_mat_norm = np.around(con_mat.astype('float') / con_mat.sum(axis=1)[:, np.newaxis], decimals=2)\n",
    "\n",
    "con_mat_df = pd.DataFrame(con_mat_norm,\n",
    "                     index = classes, \n",
    "                     columns = classes)\n",
    "sns.set(font_scale=1.4)\n",
    "sns.heatmap(con_mat_df, annot=True,cmap=plt.cm.Reds)\n",
    "plt.tight_layout()\n",
    "plt.title(\"Confusion Matrix of MLP \")\n",
    "plt.ylabel('True label')\n",
    "plt.xlabel('Predicted label')\n",
    "plt.show()"
   ]
  },
  {
   "cell_type": "markdown",
   "metadata": {},
   "source": [
    "# CNN ile Sınıflandırma"
   ]
  },
  {
   "cell_type": "markdown",
   "metadata": {},
   "source": [
    "Evrişimli sinir ağı, çoğunlukla 2 boyutlu veri sınıflandırmasnda (görüntü sınıflandırılmasında) kullanılan bir ağ türüdür.Sinir ağının ilk katmanında, görüntüdeki ayırt edici öznitelikler bulunmaya çalışılır. Sonraki katmanlarında ise başlangıçta algılanan öznitelikler daha büyük ve ayırt edici öznitelikler oluşturmak için birleştirilir. Son olarak belirlenen öznitelikler üzerinden girdinin skoru belirlenir ve sınıflandırılma gerçekleştirilir.\n",
    "\n",
    "2 boyutlu verilerde, öznitelik tespiti için kullanılan evrişimli sinir ağlarının 1 boyutlu metin verilerinin ayırt edici özelliklerinin belirlenmesinde de iyi çalıştığı literatür tarmasında gözlendi. Bunun üzerine 1 evrişim katmanlı ve 1 havuz katmanlı basit bir evrişimsel sinir ağı oluşturuldu."
   ]
  },
  {
   "cell_type": "code",
   "execution_count": 72,
   "metadata": {},
   "outputs": [
    {
     "name": "stdout",
     "output_type": "stream",
     "text": [
      "Model: \"sequential_14\"\n",
      "_________________________________________________________________\n",
      "Layer (type)                 Output Shape              Param #   \n",
      "=================================================================\n",
      "embedding_14 (Embedding)     (None, 100, 100)          9254700   \n",
      "_________________________________________________________________\n",
      "conv1d_6 (Conv1D)            (None, 96, 128)           64128     \n",
      "_________________________________________________________________\n",
      "global_max_pooling1d_6 (Glob (None, 128)               0         \n",
      "_________________________________________________________________\n",
      "dense_12 (Dense)             (None, 1)                 129       \n",
      "=================================================================\n",
      "Total params: 9,318,957\n",
      "Trainable params: 64,257\n",
      "Non-trainable params: 9,254,700\n",
      "_________________________________________________________________\n",
      "None\n"
     ]
    }
   ],
   "source": [
    "model_cnn = Sequential()\n",
    "\n",
    "embedding_layer = Embedding(vocab_size, 100, weights=[embedding_matrix], input_length=maxlen , trainable=False)\n",
    "model_cnn.add(embedding_layer)\n",
    "\n",
    "model_cnn.add(Conv1D(128, 5, activation='relu'))\n",
    "model_cnn.add(GlobalMaxPooling1D())\n",
    "model_cnn.add(Dense(1, activation='sigmoid'))\n",
    "model_cnn.compile(optimizer='adam', loss='binary_crossentropy', metrics=['acc'])\n",
    "print(model_cnn.summary())"
   ]
  },
  {
   "cell_type": "markdown",
   "metadata": {},
   "source": [
    "Yukarıda görüldüğü üzere 128 öznitelikten oluşan tek boyutlu bir evrişim katmanı oluşturuldu ve kullanılan etkinleştirme fonksiyonu sigmoid olarak belirlendi. Ardından, öznitelik boyutunu küçültmek için global bir maksimum havuzlama katmanı eklendi."
   ]
  },
  {
   "cell_type": "code",
   "execution_count": 73,
   "metadata": {},
   "outputs": [
    {
     "name": "stdout",
     "output_type": "stream",
     "text": [
      "Epoch 1/6\n",
      "250/250 [==============================] - 7s 29ms/step - loss: 0.5084 - acc: 0.7477 - val_loss: 0.4021 - val_acc: 0.8179\n",
      "Epoch 2/6\n",
      "250/250 [==============================] - 7s 28ms/step - loss: 0.3716 - acc: 0.8362 - val_loss: 0.3651 - val_acc: 0.8378\n",
      "Epoch 3/6\n",
      "250/250 [==============================] - 7s 29ms/step - loss: 0.3214 - acc: 0.8634 - val_loss: 0.3781 - val_acc: 0.8279\n",
      "Epoch 4/6\n",
      "250/250 [==============================] - 7s 28ms/step - loss: 0.2845 - acc: 0.8836 - val_loss: 0.3596 - val_acc: 0.8384\n",
      "Epoch 5/6\n",
      "250/250 [==============================] - 7s 29ms/step - loss: 0.2532 - acc: 0.9001 - val_loss: 0.3549 - val_acc: 0.8411\n",
      "Epoch 6/6\n",
      "250/250 [==============================] - 7s 29ms/step - loss: 0.2213 - acc: 0.9171 - val_loss: 0.3429 - val_acc: 0.8481\n",
      "313/313 [==============================] - ETA: 0s - loss: 0.3387 - acc: 0.849 - 1s 3ms/step - loss: 0.3400 - acc: 0.8483\n",
      "1250/1250 [==============================] - 4s 3ms/step - loss: 0.2103 - acc: 0.9276\n",
      "Test Score: 0.3400014638900757\n",
      "Test Accuracy: 0.8482999801635742\n",
      "Train Score: 0.21028217673301697\n",
      "Train Accuracy: 0.9276000261306763\n"
     ]
    }
   ],
   "source": [
    "history_cnn = model_cnn.fit(X_train, y_train, batch_size=128, epochs=6, verbose=1, validation_split=0.2)\n",
    "\n",
    "score_test = model_cnn.evaluate(X_test, y_test, verbose=1)\n",
    "score_train = model_cnn.evaluate(X_train, y_train, verbose=1)\n",
    "print(\"Test Score:\", score_test[0])\n",
    "print(\"Test Accuracy:\", score_test[1])\n",
    "print(\"Train Score:\", score_train[0])\n",
    "print(\"Train Accuracy:\", score_train[1])"
   ]
  },
  {
   "cell_type": "markdown",
   "metadata": {},
   "source": [
    "CNN modeli ile MLP modeli arasındaki eğitim ve test doğruluğu karşılaştırıldığında;\n",
    "CNN modelinde eğitim doğruluğunun yaklaşık %93 olduğu, MLP modelinde eğitim doğruluğunun ise yaklaşık %82 olduğu gözlemlenir.\n",
    "Bunun yanında CNN modelindeki test doğruluğunun yaklaşık %85 olduğu, MLP modelindeki test doğruluğunun ise %74 olduğu gözlemlenir. \n",
    "Yukarıdaki bilgiler sonucunda CNN modelinin MLP modeline kıyasla metinsel sınıflandırmada daha iyi performans gösterdiği gözlemlenmiştir. Ancak CNN modelinde de ortaya çıkan eğitim ve test doğruluğu arasındaki büyük fark, modelin veriyi ezberlediğini (overfitting) ortaya koymuştur."
   ]
  },
  {
   "cell_type": "code",
   "execution_count": 74,
   "metadata": {},
   "outputs": [
    {
     "data": {
      "image/png": "[encoded data removed]",
      "text/plain": [
       "<Figure size 432x288 with 1 Axes>"
      ]
     },
     "metadata": {
      "needs_background": "light"
     },
     "output_type": "display_data"
    },
    {
     "data": {
      "image/png": "[encoded data removed]",
      "text/plain": [
       "<Figure size 432x288 with 1 Axes>"
      ]
     },
     "metadata": {
      "needs_background": "light"
     },
     "output_type": "display_data"
    }
   ],
   "source": [
    "plt.plot(history_cnn.history['acc'])\n",
    "plt.plot(history_cnn.history['val_acc'])\n",
    "\n",
    "plt.title('model accuracy')\n",
    "plt.ylabel('accuracy')\n",
    "plt.xlabel('epoch')\n",
    "plt.legend(['train','test'], loc = 'upper left')\n",
    "plt.show()\n",
    "\n",
    "plt.plot(history_cnn.history['loss'])\n",
    "plt.plot(history_cnn.history['val_loss'])\n",
    "\n",
    "plt.title('model loss')\n",
    "plt.ylabel('loss')\n",
    "plt.xlabel('epoch')\n",
    "plt.legend(['train','test'], loc = 'upper left')\n",
    "plt.show()"
   ]
  },
  {
   "cell_type": "code",
   "execution_count": 95,
   "metadata": {},
   "outputs": [
    {
     "data": {
      "image/png": "[encoded data removed]",
      "text/plain": [
       "<Figure size 432x288 with 2 Axes>"
      ]
     },
     "metadata": {},
     "output_type": "display_data"
    }
   ],
   "source": [
    "\n",
    "y_pred=model_cnn.predict_classes(X_test)\n",
    "con_mat = tf.math.confusion_matrix(labels=y_test, predictions=y_pred).numpy()\n",
    "classes=[0,1]\n",
    "con_mat_norm = np.around(con_mat.astype('float') / con_mat.sum(axis=1)[:, np.newaxis], decimals=2)\n",
    "\n",
    "con_mat_df = pd.DataFrame(con_mat_norm,\n",
    "                     index = classes, \n",
    "                     columns = classes)\n",
    "sns.set(font_scale=1.4)\n",
    "sns.heatmap(con_mat_df, annot=True,cmap=plt.cm.Reds)\n",
    "plt.tight_layout()\n",
    "plt.title(\"Confusion Matrix of CNN \")\n",
    "plt.ylabel('True label')\n",
    "plt.xlabel('Predicted label')\n",
    "plt.show()"
   ]
  },
  {
   "cell_type": "markdown",
   "metadata": {},
   "source": [
    "# Tekrarlayan Sinir Ağı (LSTM) ile Metin Sınıflandırma"
   ]
  },
  {
   "cell_type": "markdown",
   "metadata": {},
   "source": [
    "Literatür taraması sırasında sıralı verilerde sınıflandırma perfonsı yüksek olan ağlardan birinin Tekrarlayan Sinir Ağı (RNN) olduğu belirlenmiştir. Metin verilerinin de sıralı veriler olduğu düşüldüğünde, Film yorumlarının duygusal sınıflandırlmasında da RNN sinir ağının iyi bir peformans sergileyeceği tahmin edilmiştir. "
   ]
  },
  {
   "cell_type": "code",
   "execution_count": 75,
   "metadata": {},
   "outputs": [
    {
     "name": "stdout",
     "output_type": "stream",
     "text": [
      "Model: \"sequential_15\"\n",
      "_________________________________________________________________\n",
      "Layer (type)                 Output Shape              Param #   \n",
      "=================================================================\n",
      "embedding_15 (Embedding)     (None, 100, 100)          9254700   \n",
      "_________________________________________________________________\n",
      "lstm_2 (LSTM)                (None, 128)               117248    \n",
      "_________________________________________________________________\n",
      "dense_13 (Dense)             (None, 1)                 129       \n",
      "=================================================================\n",
      "Total params: 9,372,077\n",
      "Trainable params: 117,377\n",
      "Non-trainable params: 9,254,700\n",
      "_________________________________________________________________\n",
      "None\n"
     ]
    }
   ],
   "source": [
    "model_lstm = Sequential()\n",
    "embedding_layer = Embedding(vocab_size, 100, weights=[embedding_matrix], input_length=maxlen , trainable=False)\n",
    "model_lstm.add(embedding_layer)\n",
    "model_lstm.add(LSTM(128))\n",
    "\n",
    "model_lstm.add(Dense(1, activation='sigmoid'))\n",
    "model_lstm.compile(optimizer='adam', loss='binary_crossentropy', metrics=['acc'])\n",
    "print(model_lstm.summary())"
   ]
  },
  {
   "cell_type": "code",
   "execution_count": 76,
   "metadata": {},
   "outputs": [
    {
     "name": "stdout",
     "output_type": "stream",
     "text": [
      "Epoch 1/6\n",
      "250/250 [==============================] - 30s 119ms/step - loss: 0.5442 - acc: 0.7157 - val_loss: 0.4503 - val_acc: 0.7868\n",
      "Epoch 2/6\n",
      "250/250 [==============================] - 30s 121ms/step - loss: 0.4449 - acc: 0.7952 - val_loss: 0.4141 - val_acc: 0.8145\n",
      "Epoch 3/6\n",
      "250/250 [==============================] - 30s 120ms/step - loss: 0.3999 - acc: 0.8184 - val_loss: 0.3981 - val_acc: 0.8166\n",
      "Epoch 4/6\n",
      "250/250 [==============================] - 31s 124ms/step - loss: 0.3646 - acc: 0.8389 - val_loss: 0.3731 - val_acc: 0.8309\n",
      "Epoch 5/6\n",
      "250/250 [==============================] - 31s 122ms/step - loss: 0.3408 - acc: 0.8492 - val_loss: 0.3420 - val_acc: 0.8497\n",
      "Epoch 6/6\n",
      "250/250 [==============================] - 31s 122ms/step - loss: 0.3262 - acc: 0.8555 - val_loss: 0.3408 - val_acc: 0.8511\n",
      "313/313 [==============================] - 6s 19ms/step - loss: 0.3407 - acc: 0.8492\n",
      "1250/1250 [==============================] - 26s 21ms/step - loss: 0.3157 - acc: 0.8665\n",
      "Test Score: 0.3406710624694824\n",
      "Test Accuracy: 0.8492000102996826\n",
      "Train Score: 0.3157050907611847\n",
      "Train Accuracy: 0.866474986076355\n"
     ]
    }
   ],
   "source": [
    "history = model_lstm.fit(X_train, y_train, batch_size=128, epochs=6, verbose=1, validation_split=0.2)\n",
    "score_test = model_lstm.evaluate(X_test, y_test, verbose=1)\n",
    "score_train = model_lstm.evaluate(X_train, y_train, verbose=1)\n",
    "print(\"Test Score:\", score_test[0])\n",
    "print(\"Test Accuracy:\", score_test[1])\n",
    "print(\"Train Score:\", score_train[0])\n",
    "print(\"Train Accuracy:\", score_train[1])"
   ]
  },
  {
   "cell_type": "markdown",
   "metadata": {},
   "source": [
    "LSTM modelinin test doğruluğunun CNN modelinde olduğu gibi yaklaşık %85 lduğu ve eğitim modelinin doğruluğunun ise yaklaşık%87 olduğu gözlemlenmişitr. Bu durum LSTM modelinde eğitim ve test doğruluğunun arasındaki farkın küçük olduğunu ve bu modelin diğer iki modelin aksine veriyi ezberlemediğini gösterniştir.\n"
   ]
  },
  {
   "cell_type": "code",
   "execution_count": 77,
   "metadata": {},
   "outputs": [
    {
     "data": {
      "image/png": "[encoded data removed]",
      "text/plain": [
       "<Figure size 432x288 with 1 Axes>"
      ]
     },
     "metadata": {
      "needs_background": "light"
     },
     "output_type": "display_data"
    },
    {
     "data": {
      "image/png": "[encoded data removed]",
      "text/plain": [
       "<Figure size 432x288 with 1 Axes>"
      ]
     },
     "metadata": {
      "needs_background": "light"
     },
     "output_type": "display_data"
    }
   ],
   "source": [
    "plt.plot(history.history['acc'])\n",
    "plt.plot(history.history['val_acc'])\n",
    "\n",
    "plt.title('model accuracy')\n",
    "plt.ylabel('accuracy')\n",
    "plt.xlabel('epoch')\n",
    "plt.legend(['train','test'], loc='upper left')\n",
    "plt.show()\n",
    "\n",
    "plt.plot(history.history['loss'])\n",
    "plt.plot(history.history['val_loss'])\n",
    "\n",
    "plt.title('model loss')\n",
    "plt.ylabel('loss')\n",
    "plt.xlabel('epoch')\n",
    "plt.legend(['train','test'], loc='upper left')\n",
    "plt.show()"
   ]
  },
  {
   "cell_type": "code",
   "execution_count": 97,
   "metadata": {},
   "outputs": [
    {
     "data": {
      "image/png": "[encoded data removed]",
      "text/plain": [
       "<Figure size 432x288 with 2 Axes>"
      ]
     },
     "metadata": {},
     "output_type": "display_data"
    }
   ],
   "source": [
    "y_pred=model_lstm.predict_classes(X_test)\n",
    "con_mat = tf.math.confusion_matrix(labels=y_test, predictions=y_pred).numpy()\n",
    "classes=[0,1]\n",
    "con_mat_norm = np.around(con_mat.astype('float') / con_mat.sum(axis=1)[:, np.newaxis], decimals=2)\n",
    "\n",
    "con_mat_df = pd.DataFrame(con_mat_norm,\n",
    "                     index = classes, \n",
    "                     columns = classes)\n",
    "sns.set(font_scale=1.4)\n",
    "sns.heatmap(con_mat_df, annot=True,cmap=plt.cm.Reds)\n",
    "plt.tight_layout()\n",
    "plt.title(\"Confusion Matrix of LSTM \")\n",
    "plt.ylabel('True label')\n",
    "plt.xlabel('Predicted label')\n",
    "plt.show()"
   ]
  },
  {
   "cell_type": "markdown",
   "metadata": {},
   "source": [
    "Yukarıdaki grafiklerde de görüldüğü üzere LSTM modelinde eğitim ve test setleri arasındaki doğruluk farkının, basit sinir ağı ve CNN ile karşılaştırıldığında çok daha küçüktür. Benzer şekilde, kayıp değerleri arasındaki fark da ihmal edilebilir düzeydedir, bu da LSTM modelinin veriyi ezberlemediğini göstermektedir. \n",
    "Metinsel Film yorumlarının duygusal analizi için kullanılacak en iyi sınıflandırma modelinin RNN sinir ağının bir çesşidi olan LSTM modeli olduğu sonucuna varılmıştır."
   ]
  }
 ],
 "metadata": {
  "celltoolbar": "Raw Cell Format",
  "interpreter": {
   "hash": "772bdfc5039a7b52748c774ea658e94c59c1cdbaa577ae0ba0d8baeda1aa2344"
  },
  "kernelspec": {
   "display_name": "Python 3",
   "language": "python",
   "name": "python3"
  },
  "language_info": {
   "codemirror_mode": {
    "name": "ipython",
    "version": 3
   },
   "file_extension": ".py",
   "mimetype": "text/x-python",
   "name": "python",
   "nbconvert_exporter": "python",
   "pygments_lexer": "ipython3",
   "version": "3.8.8"
  },
  "toc": {
   "base_numbering": 1,
   "nav_menu": {},
   "number_sections": true,
   "sideBar": true,
   "skip_h1_title": false,
   "title_cell": "Table of Contents",
   "title_sidebar": "Contents",
   "toc_cell": false,
   "toc_position": {},
   "toc_section_display": true,
   "toc_window_display": false
  },
  "varInspector": {
   "cols": {
    "lenName": 16,
    "lenType": 16,
    "lenVar": 40
   },
   "kernels_config": {
    "python": {
     "delete_cmd_postfix": "",
     "delete_cmd_prefix": "del ",
     "library": "var_list.py",
     "varRefreshCmd": "print(var_dic_list())"
    },
    "r": {
     "delete_cmd_postfix": ") ",
     "delete_cmd_prefix": "rm(",
     "library": "var_list.r",
     "varRefreshCmd": "cat(var_dic_list()) "
    }
   },
   "types_to_exclude": [
    "module",
    "function",
    "builtin_function_or_method",
    "instance",
    "_Feature"
   ],
   "window_display": false
  }
 },
 "nbformat": 4,
 "nbformat_minor": 2
}
